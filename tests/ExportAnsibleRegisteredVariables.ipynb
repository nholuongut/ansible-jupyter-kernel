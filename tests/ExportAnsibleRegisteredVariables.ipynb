{
 "cells": [
  {
   "cell_type": "markdown",
   "metadata": {},
   "source": [
    "# Tests that registered variables from `#task` cells are available to `#python` cells as global variables\n",
    "\n",
    "* PASS"
   ]
  },
  {
   "cell_type": "code",
   "execution_count": 7,
   "metadata": {},
   "outputs": [
    {
     "name": "stdout",
     "output_type": "stream",
     "text": [
      "TASK [debug] *******************************************************************\n",
      "ok: [localhost] => {\n",
      "    \"msg\": \"Hello from Ansible\"\n",
      "}\n"
     ]
    }
   ],
   "source": [
    "debug:\n",
    "    msg: \"Hello from Ansible\"\n",
    "register: output"
   ]
  },
  {
   "cell_type": "code",
   "execution_count": 8,
   "metadata": {},
   "outputs": [],
   "source": [
    "#python\n",
    "assert output['localhost']['msg'] == \"Hello from Ansible\""
   ]
  },
  {
   "cell_type": "code",
   "execution_count": null,
   "metadata": {},
   "outputs": [],
   "source": []
  }
 ],
 "metadata": {
  "kernelspec": {
   "display_name": "Ansible",
   "language": "ansible",
   "name": "ansible"
  },
  "language_info": {
   "codemirror_mode": "yaml",
   "file_extension": ".yml",
   "mimetype": "text/yaml",
   "name": "ansible"
  }
 },
 "nbformat": 4,
 "nbformat_minor": 2
}
