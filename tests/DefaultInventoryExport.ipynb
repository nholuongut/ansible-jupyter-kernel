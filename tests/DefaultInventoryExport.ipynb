{
 "cells": [
  {
   "cell_type": "markdown",
   "metadata": {},
   "source": [
    "# Tests Default Inventory Export\n",
    "\n",
    "* Passes if unarchived inventory export matches the expected file contents"
   ]
  },
  {
   "cell_type": "code",
   "execution_count": null,
   "metadata": {},
   "outputs": [],
   "source": [
    "#play\n",
    "hosts: localhost\n",
    "connection: local\n",
    "gather_facts: no"
   ]
  },
  {
   "cell_type": "code",
   "execution_count": null,
   "metadata": {},
   "outputs": [],
   "source": [
    "#task\n",
    "set_fact:\n",
    "  expected_inventory: \"[all]\\nlocalhost ansible_connection=local\"\n",
    "  exporter: ansible_kernel.exporters.ansible_zip.AnsibleZipExporter\n",
    "  test_ipynb: |\n",
    "    {\n",
    "     \"cells\": [\n",
    "      {\n",
    "       \"cell_type\": \"markdown\",\n",
    "       \"metadata\": {},\n",
    "       \"source\": [\n",
    "        \"# Tests that a simple task runs\\n\",\n",
    "        \"\\n\",\n",
    "        \"* Passes if the debug command runs - PASS\"\n",
    "       ]\n",
    "      },\n",
    "      {\n",
    "       \"cell_type\": \"code\",\n",
    "       \"execution_count\": 1,\n",
    "       \"metadata\": {},\n",
    "       \"outputs\": [\n",
    "        {\n",
    "         \"name\": \"stdout\",\n",
    "         \"output_type\": \"stream\",\n",
    "         \"text\": [\n",
    "          \"TASK [debug] *******************************************************************\\n\",\n",
    "          \"ok: [localhost] => {\\n\",\n",
    "          \"    \\\"msg\\\": \\\"Hello world!\\\"\\n\",\n",
    "          \"}\\n\"\n",
    "         ]\n",
    "        }\n",
    "       ],\n",
    "       \"source\": [\n",
    "        \"debug:\"\n",
    "       ]\n",
    "      },\n",
    "      {\n",
    "       \"cell_type\": \"code\",\n",
    "       \"execution_count\": null,\n",
    "       \"metadata\": {},\n",
    "       \"outputs\": [],\n",
    "       \"source\": []\n",
    "      }\n",
    "     ],\n",
    "     \"metadata\": {\n",
    "      \"kernelspec\": {\n",
    "       \"display_name\": \"Ansible\",\n",
    "       \"language\": \"ansible\",\n",
    "       \"name\": \"ansible\"\n",
    "      },\n",
    "      \"language_info\": {\n",
    "       \"codemirror_mode\": \"yaml\",\n",
    "       \"file_extension\": \".yml\",\n",
    "       \"mimetype\": \"text/yaml\",\n",
    "       \"name\": \"ansible\"\n",
    "      }\n",
    "     },\n",
    "     \"nbformat\": 4,\n",
    "     \"nbformat_minor\": 2\n",
    "    }"
   ]
  },
  {
   "cell_type": "code",
   "execution_count": null,
   "metadata": {},
   "outputs": [],
   "source": [
    "#task\n",
    "shell: pwd\n",
    "register: current_path_command"
   ]
  },
  {
   "cell_type": "code",
   "execution_count": null,
   "metadata": {},
   "outputs": [],
   "source": [
    "#task\n",
    "set_fact: current_path={{ current_path_command.stdout }}"
   ]
  },
  {
   "cell_type": "code",
   "execution_count": null,
   "metadata": {},
   "outputs": [],
   "source": [
    "#task\n",
    "name: create test file\n",
    "copy: content=\"{{ test_ipynb }}\" dest={{ current_path }}/test.ipynb"
   ]
  },
  {
   "cell_type": "code",
   "execution_count": null,
   "metadata": {},
   "outputs": [],
   "source": [
    "#task\n",
    "name: run exporter\n",
    "shell: jupyter nbconvert --to {{ exporter }} {{ current_path }}/test.ipynb"
   ]
  },
  {
   "cell_type": "code",
   "execution_count": null,
   "metadata": {},
   "outputs": [],
   "source": [
    "#task\n",
    "name: unarchive test zip\n",
    "unarchive:\n",
    "  remote_src: yes\n",
    "  src: '{{ current_path }}/test.zip'\n",
    "  dest: '{{ current_path }}'"
   ]
  },
  {
   "cell_type": "code",
   "execution_count": null,
   "metadata": {},
   "outputs": [],
   "source": [
    "#task\n",
    "name: read inventory\n",
    "slurp:\n",
    "  src: '{{ current_path }}/inventory'\n",
    "register: inventory_file"
   ]
  },
  {
   "cell_type": "code",
   "execution_count": null,
   "metadata": {},
   "outputs": [],
   "source": [
    "#task\n",
    "name: decode inventory\n",
    "set_fact: actual_inventory={{ inventory_file['content'] | b64decode }}"
   ]
  },
  {
   "cell_type": "code",
   "execution_count": null,
   "metadata": {},
   "outputs": [],
   "source": [
    "#task\n",
    "name: check expected inventory content\n",
    "assert:\n",
    "  that: actual_inventory == expected_inventory"
   ]
  },
  {
   "cell_type": "code",
   "execution_count": null,
   "metadata": {},
   "outputs": [],
   "source": []
  }
 ],
 "metadata": {
  "kernelspec": {
   "display_name": "Ansible",
   "language": "ansible",
   "name": "ansible"
  },
  "language_info": {
   "codemirror_mode": "yaml",
   "file_extension": ".yml",
   "mimetype": "text/yaml",
   "name": "ansible"
  }
 },
 "nbformat": 4,
 "nbformat_minor": 2
}
