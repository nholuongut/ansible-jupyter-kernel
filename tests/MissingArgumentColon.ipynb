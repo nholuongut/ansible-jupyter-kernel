{
 "cells": [
  {
   "cell_type": "markdown",
   "metadata": {},
   "source": [
    "# Tests that module arguments with a missing colon returns error\n",
    "\n",
    "* Passes if the error message is shown - PASS"
   ]
  },
  {
   "cell_type": "code",
   "execution_count": 1,
   "metadata": {},
   "outputs": [
    {
     "name": "stdout",
     "output_type": "stream",
     "text": [
      "fatal: [localhost]: FAILED! => this task 'debug' has extra params, which is only allowed in the following modules: shell, win_shell, include_vars, add_host, raw, include_role, meta, set_fact, include, import_tasks, script, import_role, include_tasks, group_by, command, win_command\n",
      "\n",
      "The error appears to have been in '/private/var/folders/p8/mttm7w913kq_v0wyfl9khlpc0000gn/T/ansible_kernel_playbookh_NA6j/next_task0.yml': line 1, column 3, but may\n",
      "be elsewhere in the file depending on the exact syntax problem.\n",
      "\n",
      "The offending line appears to be:\n",
      "\n",
      "\n",
      "- debug: msg\n",
      "  ^ here\n",
      "\n",
      "\n",
      "Playbook ended\n",
      "Context lost!\n"
     ]
    }
   ],
   "source": [
    "debug:\n",
    "   msg"
   ]
  },
  {
   "cell_type": "code",
   "execution_count": null,
   "metadata": {},
   "outputs": [],
   "source": []
  },
  {
   "cell_type": "code",
   "execution_count": null,
   "metadata": {},
   "outputs": [],
   "source": []
  }
 ],
 "metadata": {
  "kernelspec": {
   "display_name": "Ansible",
   "language": "ansible",
   "name": "ansible"
  },
  "language_info": {
   "codemirror_mode": "yaml",
   "file_extension": ".yml",
   "mimetype": "text/yaml",
   "name": "ansible"
  }
 },
 "nbformat": 4,
 "nbformat_minor": 2
}
