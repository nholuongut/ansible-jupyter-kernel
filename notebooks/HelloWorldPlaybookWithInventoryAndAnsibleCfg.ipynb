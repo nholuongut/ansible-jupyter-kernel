{
 "cells": [
  {
   "cell_type": "markdown",
   "metadata": {},
   "source": [
    "# Hello World Playbook With Inventory and Ansible.cfg\n",
    "* Defines an ansible.cfg \n",
    "* Defines an inventory\n",
    "* Defines a play\n",
    "* Defines a task\n",
    "\n",
    "* Press shift-enter four times to run the play and task"
   ]
  },
  {
   "cell_type": "code",
   "execution_count": 1,
   "metadata": {},
   "outputs": [],
   "source": [
    "#ansible.cfg\n",
    "[defaults]\n",
    "host_key_checking=False"
   ]
  },
  {
   "cell_type": "code",
   "execution_count": 2,
   "metadata": {},
   "outputs": [],
   "source": [
    "#inventory\n",
    "[all]\n",
    "localhost ansible_connection=local"
   ]
  },
  {
   "cell_type": "code",
   "execution_count": 3,
   "metadata": {},
   "outputs": [
    {
     "name": "stdout",
     "output_type": "stream",
     "text": [
      "\n"
     ]
    }
   ],
   "source": [
    "#play\n",
    "name: hello world\n",
    "hosts: localhost\n",
    "gather_facts: false"
   ]
  },
  {
   "cell_type": "code",
   "execution_count": 4,
   "metadata": {},
   "outputs": [
    {
     "name": "stdout",
     "output_type": "stream",
     "text": [
      "TASK [debug] *******************************************************************\n",
      "ok: [localhost] => {\n",
      "    \"msg\": \"Hello World\"\n",
      "}\n"
     ]
    }
   ],
   "source": [
    "#task\n",
    "debug:\n",
    " msg: Hello World"
   ]
  },
  {
   "cell_type": "code",
   "execution_count": 5,
   "metadata": {},
   "outputs": [
    {
     "name": "stdout",
     "output_type": "stream",
     "text": [
      "TASK [ping] ********************************************************************\n",
      "ok: [localhost] => {\"ping\": \"pong\"}\n"
     ]
    }
   ],
   "source": [
    "ping:"
   ]
  },
  {
   "cell_type": "code",
   "execution_count": null,
   "metadata": {},
   "outputs": [],
   "source": []
  }
 ],
 "metadata": {
  "kernelspec": {
   "display_name": "Ansible",
   "language": "ansible",
   "name": "ansible"
  },
  "language_info": {
   "codemirror_mode": "yaml",
   "file_extension": ".yml",
   "mimetype": "text/yaml",
   "name": "ansible"
  }
 },
 "nbformat": 4,
 "nbformat_minor": 2
}
