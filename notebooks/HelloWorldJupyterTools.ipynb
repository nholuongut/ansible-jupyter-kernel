{
 "cells": [
  {
   "cell_type": "markdown",
   "metadata": {},
   "source": [
    "# Installs the jupyter_tools role and uses html_template module\n"
   ]
  },
  {
   "cell_type": "code",
   "execution_count": 1,
   "metadata": {},
   "outputs": [
    {
     "name": "stdout",
     "output_type": "stream",
     "text": [
      "- downloading role 'jupyter_tools', owned by benthomasson\n",
      "- downloading role from https://github.com/benthomasson/jupyter-tools/archive/master.tar.gz\n",
      "- extracting benthomasson.jupyter_tools to /private/var/folders/p8/mttm7w913kq_v0wyfl9khlpc0000gn/T/ansible_kernel_playbookYyqqrl/project/roles/benthomasson.jupyter_tools\n",
      "- benthomasson.jupyter_tools (master) was installed successfully\n",
      "\n"
     ]
    }
   ],
   "source": [
    "#play\n",
    "hosts: localhost\n",
    "gather_facts: false\n",
    "roles:\n",
    "   - benthomasson.jupyter_tools\n",
    "   "
   ]
  },
  {
   "cell_type": "code",
   "execution_count": 2,
   "metadata": {},
   "outputs": [
    {
     "name": "stdout",
     "output_type": "stream",
     "text": [
      "TASK [set_fact] ****************************************************************\n",
      "ok: [localhost] => {\n",
      "    \"ansible_facts\": {\n",
      "        \"target\": \"World\"\n",
      "    }\n",
      "}\n"
     ]
    }
   ],
   "source": [
    "set_fact:\n",
    "    target: World"
   ]
  },
  {
   "cell_type": "code",
   "execution_count": 3,
   "metadata": {},
   "outputs": [
    {
     "name": "stdout",
     "output_type": "stream",
     "text": [
      "TASK [html_template] ***********************************************************\n"
     ]
    },
    {
     "data": {
      "text/html": [
       "<h1>Hello World</h1>\n"
      ]
     },
     "metadata": {},
     "output_type": "display_data"
    },
    {
     "name": "stdout",
     "output_type": "stream",
     "text": [
      "ok: [localhost] => {}\n"
     ]
    }
   ],
   "source": [
    "html_template:\n",
    "    src: templates/hello.j2"
   ]
  },
  {
   "cell_type": "code",
   "execution_count": null,
   "metadata": {},
   "outputs": [],
   "source": []
  }
 ],
 "metadata": {
  "kernelspec": {
   "display_name": "Ansible",
   "language": "ansible",
   "name": "ansible"
  },
  "language_info": {
   "codemirror_mode": "yaml",
   "file_extension": ".yml",
   "mimetype": "text/yaml",
   "name": "ansible"
  }
 },
 "nbformat": 4,
 "nbformat_minor": 2
}
