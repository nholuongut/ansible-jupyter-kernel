{
 "cells": [
  {
   "cell_type": "markdown",
   "metadata": {},
   "source": [
    "# Uses widgets as input to tasks"
   ]
  },
  {
   "cell_type": "code",
   "execution_count": 1,
   "metadata": {},
   "outputs": [],
   "source": [
    "#ansible.cfg\n",
    "[defaults]\n",
    "roles_path=roles"
   ]
  },
  {
   "cell_type": "code",
   "execution_count": 2,
   "metadata": {},
   "outputs": [
    {
     "name": "stdout",
     "output_type": "stream",
     "text": [
      "- downloading role 'ansible_jupyter_widgets', owned by benthomasson\n",
      "- downloading role from https://github.com/benthomasson/ansible-jupyter-widgets/archive/master.tar.gz\n",
      "- extracting benthomasson.ansible_jupyter_widgets to /private/var/folders/p8/mttm7w913kq_v0wyfl9khlpc0000gn/T/ansible_kernel_playbook2QAHbc/project/roles/benthomasson.ansible_jupyter_widgets\n",
      "- benthomasson.ansible_jupyter_widgets (master) was installed successfully\n",
      "- downloading role 'jupyter_tools', owned by benthomasson\n",
      "- downloading role from https://github.com/benthomasson/jupyter-tools/archive/master.tar.gz\n",
      "- extracting benthomasson.jupyter_tools to /private/var/folders/p8/mttm7w913kq_v0wyfl9khlpc0000gn/T/ansible_kernel_playbook2QAHbc/project/roles/benthomasson.jupyter_tools\n",
      "- benthomasson.jupyter_tools (master) was installed successfully\n",
      "\n"
     ]
    }
   ],
   "source": [
    "#play\n",
    "hosts: localhost\n",
    "gather_facts: false\n",
    "roles:\n",
    "    - benthomasson.ansible_jupyter_widgets\n",
    "    - benthomasson.jupyter_tools"
   ]
  },
  {
   "cell_type": "code",
   "execution_count": 3,
   "metadata": {},
   "outputs": [
    {
     "name": "stdout",
     "output_type": "stream",
     "text": [
      "TASK [int_slider] **************************************************************\n"
     ]
    },
    {
     "data": {
      "application/vnd.jupyter.widget-view+json": {
       "model_id": "6c95cc3e832c4344908a2fe138139ddc",
       "version_major": 2,
       "version_minor": 0
      },
      "text/plain": [
       "IntSlider(value=0, description=u'y', var_name=u'y')"
      ]
     },
     "metadata": {},
     "output_type": "display_data"
    },
    {
     "name": "stdout",
     "output_type": "stream",
     "text": [
      "ok: [localhost] => {}\n"
     ]
    }
   ],
   "source": [
    "int_slider:\n",
    "    var_name: y"
   ]
  },
  {
   "cell_type": "code",
   "execution_count": 4,
   "metadata": {},
   "outputs": [
    {
     "name": "stdout",
     "output_type": "stream",
     "text": [
      "TASK [debug] *******************************************************************\n",
      "ok: [localhost] => {\n",
      "    \"y\": 45\n",
      "}\n"
     ]
    }
   ],
   "source": [
    "debug:\n",
    "    var: y"
   ]
  },
  {
   "cell_type": "code",
   "execution_count": 5,
   "metadata": {},
   "outputs": [
    {
     "name": "stdout",
     "output_type": "stream",
     "text": [
      "TASK [text] ********************************************************************\n"
     ]
    },
    {
     "data": {
      "application/vnd.jupyter.widget-view+json": {
       "model_id": "fdc70137e2d14fb69863f397e6c9f7d4",
       "version_major": 2,
       "version_minor": 0
      },
      "text/plain": [
       "Text(value=u'', description=u'target', var_name=u'target')"
      ]
     },
     "metadata": {},
     "output_type": "display_data"
    },
    {
     "name": "stdout",
     "output_type": "stream",
     "text": [
      "ok: [localhost] => {}\n"
     ]
    }
   ],
   "source": [
    "text:\n",
    "  var_name: target"
   ]
  },
  {
   "cell_type": "code",
   "execution_count": 9,
   "metadata": {},
   "outputs": [
    {
     "name": "stdout",
     "output_type": "stream",
     "text": [
      "TASK [html_template] ***********************************************************\n"
     ]
    },
    {
     "data": {
      "text/html": [
       "<h1>Hello Ansible</h1>\n"
      ]
     },
     "metadata": {},
     "output_type": "display_data"
    },
    {
     "name": "stdout",
     "output_type": "stream",
     "text": [
      "ok: [localhost] => {}\n"
     ]
    }
   ],
   "source": [
    "html_template:\n",
    "    src: templates/hello.j2"
   ]
  },
  {
   "cell_type": "code",
   "execution_count": null,
   "metadata": {},
   "outputs": [],
   "source": []
  }
 ],
 "metadata": {
  "kernelspec": {
   "display_name": "Ansible",
   "language": "ansible",
   "name": "ansible"
  },
  "language_info": {
   "codemirror_mode": "yaml",
   "file_extension": ".yml",
   "mimetype": "text/yaml",
   "name": "ansible"
  }
 },
 "nbformat": 4,
 "nbformat_minor": 2
}
