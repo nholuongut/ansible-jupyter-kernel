{
 "cells": [
  {
   "cell_type": "markdown",
   "metadata": {},
   "source": [
    "# HelloWorldVault\n",
    "\n",
    "Uses the #vault_password cell to bring up a password prompt.   Type `1234` into the password field to decrypt the vault in `group_vars all`. "
   ]
  },
  {
   "cell_type": "code",
   "execution_count": 2,
   "metadata": {
    "scrolled": true
   },
   "outputs": [
    {
     "data": {
      "application/vnd.jupyter.widget-view+json": {
       "model_id": "91d82bfaaae14881a73f696482e56186",
       "version_major": 2,
       "version_minor": 0
      },
      "text/plain": [
       "VaultPassword(description=u'Vault Password:', style=DescriptionStyle(description_width=u'initial'))"
      ]
     },
     "metadata": {},
     "output_type": "display_data"
    }
   ],
   "source": [
    "#vault_password"
   ]
  },
  {
   "cell_type": "code",
   "execution_count": 6,
   "metadata": {},
   "outputs": [],
   "source": [
    "#group_vars all\n",
    "$ANSIBLE_VAULT;1.1;AES256\n",
    "37646330646364396432363835663638396239313336633737646436313131316366653163636561\n",
    "3432613265663038626138366234363434623863663030340a663262323764313264353238396235\n",
    "39316432646636376238386563323331396564663135666430363935303030383733623262363665\n",
    "3134333132313337300a616463623664313636346337313235306638653637373037636637646663\n",
    "64303661663061356437616634366636656166626466393661313065303731616331"
   ]
  },
  {
   "cell_type": "code",
   "execution_count": 7,
   "metadata": {},
   "outputs": [
    {
     "name": "stdout",
     "output_type": "stream",
     "text": [
      "\n"
     ]
    }
   ],
   "source": [
    "#play\n",
    "name: hello_world_vault\n",
    "hosts: localhost\n",
    "gather_facts: false"
   ]
  },
  {
   "cell_type": "code",
   "execution_count": 8,
   "metadata": {},
   "outputs": [
    {
     "name": "stdout",
     "output_type": "stream",
     "text": [
      "TASK [debug] *******************************************************************\n",
      "ok: [localhost] => {\n",
      "    \"msg\": \"Hello World!\"\n",
      "}\n"
     ]
    }
   ],
   "source": [
    "debug:\n",
    "    var: msg"
   ]
  },
  {
   "cell_type": "code",
   "execution_count": null,
   "metadata": {},
   "outputs": [],
   "source": []
  }
 ],
 "metadata": {
  "kernelspec": {
   "display_name": "Ansible",
   "language": "ansible",
   "name": "ansible"
  },
  "language_info": {
   "codemirror_mode": "yaml",
   "file_extension": ".yml",
   "mimetype": "text/yaml",
   "name": "ansible"
  }
 },
 "nbformat": 4,
 "nbformat_minor": 2
}
