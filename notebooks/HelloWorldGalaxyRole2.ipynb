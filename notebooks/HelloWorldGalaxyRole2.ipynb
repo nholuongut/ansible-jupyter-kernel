{
 "cells": [
  {
   "cell_type": "markdown",
   "metadata": {},
   "source": [
    "# Installs a role from galaxy and includes the role in the roles list\n"
   ]
  },
  {
   "cell_type": "code",
   "execution_count": 1,
   "metadata": {},
   "outputs": [
    {
     "name": "stdout",
     "output_type": "stream",
     "text": [
      "- downloading role 'hello_role', owned by benthomasson\n",
      "- downloading role from https://github.com/benthomasson/hello-role/archive/master.tar.gz\n",
      "- extracting benthomasson.hello_role to /private/var/folders/p8/mttm7w913kq_v0wyfl9khlpc0000gn/T/ansible_kernel_playbookYibe_N/roles/benthomasson.hello_role\n",
      "- benthomasson.hello_role (master) was installed successfully\n",
      "\n",
      "TASK [benthomasson.hello_role : debug] *****************************************\n",
      "ok: [localhost] => {\n",
      "    \"msg\": \"Hello world!\"\n",
      "}\n"
     ]
    }
   ],
   "source": [
    "#play\n",
    "hosts: localhost\n",
    "gather_facts: false\n",
    "roles:\n",
    "   - benthomasson.hello_role"
   ]
  },
  {
   "cell_type": "code",
   "execution_count": null,
   "metadata": {},
   "outputs": [],
   "source": []
  },
  {
   "cell_type": "code",
   "execution_count": null,
   "metadata": {},
   "outputs": [],
   "source": []
  }
 ],
 "metadata": {
  "kernelspec": {
   "display_name": "Ansible",
   "language": "ansible",
   "name": "ansible"
  },
  "language_info": {
   "codemirror_mode": "yaml",
   "file_extension": ".yml",
   "mimetype": "text/yaml",
   "name": "ansible"
  }
 },
 "nbformat": 4,
 "nbformat_minor": 2
}
