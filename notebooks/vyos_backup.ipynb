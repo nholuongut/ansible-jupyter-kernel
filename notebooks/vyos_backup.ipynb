{
 "cells": [
  {
   "cell_type": "markdown",
   "metadata": {},
   "source": [
    "# VyOS Back-up Example\n",
    "\n",
    "* Defines an ansible.cfg with host key checking off and a vault password file\n",
    "* Defines an inventory with leafs, spines, and servers\n",
    "* Defines an Ansible vault containing the password for the hosts protected by the vault password: 1234\n",
    "* Defines a play and task to backup the configuration of the switches"
   ]
  },
  {
   "cell_type": "markdown",
   "metadata": {},
   "source": [
    "The contents of `~/.rhv/vault-secret` should be `1234`"
   ]
  },
  {
   "cell_type": "code",
   "execution_count": 1,
   "metadata": {},
   "outputs": [],
   "source": [
    "#ansible.cfg\n",
    "[defaults]\n",
    "host_key_checking = False\n",
    "vault_password_file = ~/.rhv/vault-secret"
   ]
  },
  {
   "cell_type": "code",
   "execution_count": 2,
   "metadata": {},
   "outputs": [],
   "source": [
    "#inventory\n",
    "[leafs]\n",
    "\n",
    "leaf00\n",
    "leaf01\n",
    "\n",
    "[spines]\n",
    "\n",
    "spine00\n",
    "spine01 \n",
    "\n",
    "[servers]\n",
    "\n",
    "server00\n",
    "server01\n",
    "\n",
    "[switches:children]\n",
    "\n",
    "leafs\n",
    "spines\n"
   ]
  },
  {
   "cell_type": "code",
   "execution_count": 3,
   "metadata": {},
   "outputs": [],
   "source": [
    "#group_vars all\n",
    "$ANSIBLE_VAULT;1.1;AES256\n",
    "65656531623038643432386262366564646137356465323632386236633865656138316465326431\n",
    "6439613865626533333530323664653263663265313137340a316135313364646263633761623338\n",
    "62336565646635613764326566616637383464396435343966653561363765663430393461303561\n",
    "3862386430316136300a663837333836656166306132323535373762666335376230646537323163\n",
    "63653230303336306535653066346231326265393637306565323262376338633935"
   ]
  },
  {
   "cell_type": "code",
   "execution_count": 4,
   "metadata": {},
   "outputs": [],
   "source": [
    "#group_vars switches\n",
    "ansible_network_os: vyos"
   ]
  },
  {
   "cell_type": "code",
   "execution_count": 5,
   "metadata": {},
   "outputs": [
    {
     "name": "stdout",
     "output_type": "stream",
     "text": []
    }
   ],
   "source": [
    "#play\n",
    "name: two_by_two_with_hosts\n",
    "hosts: switches\n",
    "gather_facts: false\n",
    "connection: network_cli"
   ]
  },
  {
   "cell_type": "code",
   "execution_count": 6,
   "metadata": {},
   "outputs": [
    {
     "name": "stdout",
     "output_type": "stream",
     "text": [
      "TASK [vyos_config] *************************************************************\n",
      "ok: [spine00] => {\n",
      "    \"backup_path\": \"/private/var/folders/p8/mttm7w913kq_v0wyfl9khlpc0000gn/T/ansible_kernel_playbookZu86In/backup/spine00_config.2018-06-26@13:43:01\", \n",
      "    \"changed\": false, \n",
      "    \"invocation\": {\n",
      "        \"module_args\": {\n",
      "            \"backup\": true, \n",
      "            \"comment\": \"configured by vyos_config\", \n",
      "            \"config\": null, \n",
      "            \"host\": null, \n",
      "            \"lines\": null, \n",
      "            \"match\": \"line\", \n",
      "            \"password\": null, \n",
      "            \"port\": null, \n",
      "            \"provider\": null, \n",
      "            \"save\": false, \n",
      "            \"src\": null, \n",
      "            \"ssh_keyfile\": null, \n",
      "            \"timeout\": null, \n",
      "            \"username\": null\n",
      "        }\n",
      "    }\n",
      "}\n",
      "ok: [spine01] => {\n",
      "    \"backup_path\": \"/private/var/folders/p8/mttm7w913kq_v0wyfl9khlpc0000gn/T/ansible_kernel_playbookZu86In/backup/spine01_config.2018-06-26@13:43:01\", \n",
      "    \"changed\": false, \n",
      "    \"invocation\": {\n",
      "        \"module_args\": {\n",
      "            \"backup\": true, \n",
      "            \"comment\": \"configured by vyos_config\", \n",
      "            \"config\": null, \n",
      "            \"host\": null, \n",
      "            \"lines\": null, \n",
      "            \"match\": \"line\", \n",
      "            \"password\": null, \n",
      "            \"port\": null, \n",
      "            \"provider\": null, \n",
      "            \"save\": false, \n",
      "            \"src\": null, \n",
      "            \"ssh_keyfile\": null, \n",
      "            \"timeout\": null, \n",
      "            \"username\": null\n",
      "        }\n",
      "    }\n",
      "}\n",
      "ok: [leaf01] => {\n",
      "    \"backup_path\": \"/private/var/folders/p8/mttm7w913kq_v0wyfl9khlpc0000gn/T/ansible_kernel_playbookZu86In/backup/leaf01_config.2018-06-26@13:43:02\", \n",
      "    \"changed\": false, \n",
      "    \"invocation\": {\n",
      "        \"module_args\": {\n",
      "            \"backup\": true, \n",
      "            \"comment\": \"configured by vyos_config\", \n",
      "            \"config\": null, \n",
      "            \"host\": null, \n",
      "            \"lines\": null, \n",
      "            \"match\": \"line\", \n",
      "            \"password\": null, \n",
      "            \"port\": null, \n",
      "            \"provider\": null, \n",
      "            \"save\": false, \n",
      "            \"src\": null, \n",
      "            \"ssh_keyfile\": null, \n",
      "            \"timeout\": null, \n",
      "            \"username\": null\n",
      "        }\n",
      "    }\n",
      "}\n",
      "ok: [leaf00] => {\n",
      "    \"backup_path\": \"/private/var/folders/p8/mttm7w913kq_v0wyfl9khlpc0000gn/T/ansible_kernel_playbookZu86In/backup/leaf00_config.2018-06-26@13:43:02\", \n",
      "    \"changed\": false, \n",
      "    \"invocation\": {\n",
      "        \"module_args\": {\n",
      "            \"backup\": true, \n",
      "            \"comment\": \"configured by vyos_config\", \n",
      "            \"config\": null, \n",
      "            \"host\": null, \n",
      "            \"lines\": null, \n",
      "            \"match\": \"line\", \n",
      "            \"password\": null, \n",
      "            \"port\": null, \n",
      "            \"provider\": null, \n",
      "            \"save\": false, \n",
      "            \"src\": null, \n",
      "            \"ssh_keyfile\": null, \n",
      "            \"timeout\": null, \n",
      "            \"username\": null\n",
      "        }\n",
      "    }\n",
      "}\n"
     ]
    }
   ],
   "source": [
    "#task\n",
    "vyos_config:\n",
    "    backup: yes"
   ]
  },
  {
   "cell_type": "code",
   "execution_count": null,
   "metadata": {},
   "outputs": [],
   "source": []
  }
 ],
 "metadata": {
  "kernelspec": {
   "display_name": "Ansible",
   "language": "ansible",
   "name": "ansible"
  },
  "language_info": {
   "codemirror_mode": "yaml",
   "file_extension": ".yml",
   "mimetype": "text/yaml",
   "name": "ansible"
  }
 },
 "nbformat": 4,
 "nbformat_minor": 2
}
