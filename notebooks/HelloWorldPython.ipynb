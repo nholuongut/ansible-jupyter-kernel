{
 "cells": [
  {
   "cell_type": "markdown",
   "metadata": {},
   "source": [
    "# HelloWorldPython\n",
    "\n",
    "Variables registered by tasks in Ansible are available from `#python` cells"
   ]
  },
  {
   "cell_type": "code",
   "execution_count": 1,
   "metadata": {},
   "outputs": [
    {
     "name": "stdout",
     "output_type": "stream",
     "text": [
      "TASK [debug] *******************************************************************\n",
      "ok: [localhost] => {\n",
      "    \"msg\": \"Hello world!\"\n",
      "}\n"
     ]
    }
   ],
   "source": [
    "debug:\n",
    "register: output1"
   ]
  },
  {
   "cell_type": "code",
   "execution_count": 2,
   "metadata": {},
   "outputs": [
    {
     "name": "stdout",
     "output_type": "stream",
     "text": [
      "{'localhost': {u'msg': u'Hello world!', u'changed': False, u'_ansible_verbose_always': True, u'_ansible_no_log': False}}\n"
     ]
    }
   ],
   "source": [
    "#python\n",
    "print (output1)"
   ]
  },
  {
   "cell_type": "code",
   "execution_count": 3,
   "metadata": {},
   "outputs": [
    {
     "name": "stdout",
     "output_type": "stream",
     "text": [
      "TASK [shell] *******************************************************************\n",
      "changed: [localhost] => {\n",
      "    \"cmd\": \"ls\", \n",
      "    \"delta\": \"0:00:00.007512\", \n",
      "    \"end\": \"2018-11-30 09:32:59.642743\", \n",
      "    \"rc\": 0, \n",
      "    \"start\": \"2018-11-30 09:32:59.635231\", \n",
      "    \"stderr\": \"\", \n",
      "    \"stderr_lines\": [], \n",
      "    \"stdout\": \"[see below]\", \n",
      "    \"stdout_lines\": \"[removed for clarity]\"\n",
      "}\n",
      "\n",
      "[localhost] stdout:\n",
      "ansible.cfg\n",
      "next_task0.yml\n",
      "next_task1.yml\n",
      "next_task2.yml\n",
      "playbook.yml\n",
      "roles\n",
      "widget_vars.yml\n"
     ]
    }
   ],
   "source": [
    "shell: ls\n",
    "register: output2"
   ]
  },
  {
   "cell_type": "code",
   "execution_count": 4,
   "metadata": {},
   "outputs": [
    {
     "name": "stdout",
     "output_type": "stream",
     "text": [
      "{'localhost': {u'_ansible_no_log': False,\n",
      "               u'_ansible_parsed': True,\n",
      "               u'changed': True,\n",
      "               u'cmd': u'ls',\n",
      "               u'delta': u'0:00:00.007512',\n",
      "               u'end': u'2018-11-30 09:32:59.642743',\n",
      "               u'invocation': {u'module_args': {u'_raw_params': u'ls',\n",
      "                                                u'_uses_shell': True,\n",
      "                                                u'argv': None,\n",
      "                                                u'chdir': None,\n",
      "                                                u'creates': None,\n",
      "                                                u'executable': None,\n",
      "                                                u'removes': None,\n",
      "                                                u'stdin': None,\n",
      "                                                u'warn': True}},\n",
      "               u'rc': 0,\n",
      "               u'start': u'2018-11-30 09:32:59.635231',\n",
      "               u'stderr': u'',\n",
      "               u'stderr_lines': [],\n",
      "               u'stdout': u'ansible.cfg\\nnext_task0.yml\\nnext_task1.yml\\nnext_task2.yml\\nplaybook.yml\\nroles\\nwidget_vars.yml',\n",
      "               u'stdout_lines': [u'ansible.cfg',\n",
      "                                 u'next_task0.yml',\n",
      "                                 u'next_task1.yml',\n",
      "                                 u'next_task2.yml',\n",
      "                                 u'playbook.yml',\n",
      "                                 u'roles',\n",
      "                                 u'widget_vars.yml']}}\n"
     ]
    }
   ],
   "source": [
    "#python\n",
    "from pprint import pprint\n",
    "pprint (output2)"
   ]
  },
  {
   "cell_type": "code",
   "execution_count": null,
   "metadata": {},
   "outputs": [],
   "source": []
  }
 ],
 "metadata": {
  "kernelspec": {
   "display_name": "Ansible",
   "language": "ansible",
   "name": "ansible"
  },
  "language_info": {
   "codemirror_mode": "yaml",
   "file_extension": ".yml",
   "mimetype": "text/yaml",
   "name": "ansible"
  }
 },
 "nbformat": 4,
 "nbformat_minor": 2
}
