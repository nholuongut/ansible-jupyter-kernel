{
 "cells": [
  {
   "cell_type": "code",
   "execution_count": 1,
   "metadata": {},
   "outputs": [],
   "source": [
    "#ansible.cfg\n",
    "[defaults]\n",
    "host_key_checking=False"
   ]
  },
  {
   "cell_type": "code",
   "execution_count": 2,
   "metadata": {},
   "outputs": [],
   "source": [
    "#inventory\n",
    "[all]\n",
    "localhost ansible_connection=local"
   ]
  },
  {
   "cell_type": "code",
   "execution_count": 3,
   "metadata": {},
   "outputs": [],
   "source": [
    "#vars example_vars\n",
    "message: hello from template"
   ]
  },
  {
   "cell_type": "code",
   "execution_count": 4,
   "metadata": {},
   "outputs": [],
   "source": [
    "#template hello.j2\n",
    "{{message}} "
   ]
  },
  {
   "cell_type": "code",
   "execution_count": 5,
   "metadata": {},
   "outputs": [
    {
     "name": "stdout",
     "output_type": "stream",
     "text": [
      "\n"
     ]
    }
   ],
   "source": [
    "#play\n",
    "name: hello world\n",
    "hosts: localhost\n",
    "gather_facts: false\n",
    "vars_files:\n",
    "    - example_vars"
   ]
  },
  {
   "cell_type": "code",
   "execution_count": 6,
   "metadata": {},
   "outputs": [
    {
     "name": "stdout",
     "output_type": "stream",
     "text": [
      "TASK [template] ****************************************************************\n",
      "ok: [localhost] => {\"checksum\": \"0a82a60ff55d93919952ab6faeb2b024d3120584\", \"dest\": \"/tmp/hello\", \"gid\": 20, \"group\": \"staff\", \"mode\": \"0644\", \"owner\": \"bthomass\", \"path\": \"/tmp/hello\", \"size\": 19, \"state\": \"file\", \"uid\": 501}\n"
     ]
    }
   ],
   "source": [
    "template:\n",
    "    src: hello.j2\n",
    "    dest: /tmp/hello"
   ]
  },
  {
   "cell_type": "code",
   "execution_count": 7,
   "metadata": {},
   "outputs": [
    {
     "name": "stdout",
     "output_type": "stream",
     "text": [
      "TASK [shell] *******************************************************************\n",
      "changed: [localhost] => {\"cmd\": \"cat /tmp/hello\", \"delta\": \"0:00:00.008952\", \"end\": \"2018-07-07 06:13:13.621259\", \"rc\": 0, \"start\": \"2018-07-07 06:13:13.612307\", \"stderr\": \"\", \"stderr_lines\": [], \"stdout\": \"hello from template\", \"stdout_lines\": [\"hello from template\"]}\n"
     ]
    }
   ],
   "source": [
    "shell: cat /tmp/hello\n",
    "register: output"
   ]
  },
  {
   "cell_type": "code",
   "execution_count": 8,
   "metadata": {},
   "outputs": [
    {
     "name": "stdout",
     "output_type": "stream",
     "text": [
      "TASK [debug] *******************************************************************\n",
      "ok: [localhost] => {\n",
      "    \"output.stdout\": \"hello from template\"\n",
      "}\n"
     ]
    }
   ],
   "source": [
    "debug:\n",
    "    var: output.stdout"
   ]
  },
  {
   "cell_type": "code",
   "execution_count": null,
   "metadata": {},
   "outputs": [],
   "source": []
  }
 ],
 "metadata": {
  "kernelspec": {
   "display_name": "Ansible",
   "language": "ansible",
   "name": "ansible"
  },
  "language_info": {
   "codemirror_mode": "yaml",
   "file_extension": ".yml",
   "mimetype": "text/yaml",
   "name": "ansible"
  }
 },
 "nbformat": 4,
 "nbformat_minor": 2
}
